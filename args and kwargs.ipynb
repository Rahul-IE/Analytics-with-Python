{
 "cells": [
  {
   "cell_type": "code",
   "execution_count": null,
   "id": "overall-portland",
   "metadata": {},
   "outputs": [],
   "source": [
    "list = '1 2 3 4 5'\n",
    "vars = a,b,c,d,e = list.split()\n",
    "vars.index(a) #reads the index where a is stored\n"
   ]
  },
  {
   "cell_type": "markdown",
   "id": "continental-communications",
   "metadata": {},
   "source": [
    "## *args in a function\n",
    "\n"
   ]
  },
  {
   "cell_type": "code",
   "execution_count": 23,
   "id": "dietary-chinese",
   "metadata": {},
   "outputs": [
    {
     "data": {
      "text/plain": [
       "93480"
      ]
     },
     "execution_count": 23,
     "metadata": {},
     "output_type": "execute_result"
    }
   ],
   "source": [
    "#product with args taking a variable number of arguments\n",
    "def product(*args):\n",
    "    p = 1\n",
    "    for i in args:     #must use a for loop here to access each element in the argument tuple specified to the function\n",
    "        p*= i\n",
    "    return p\n",
    "product(2,3,1,4,5,779)       "
   ]
  },
  {
   "cell_type": "code",
   "execution_count": 72,
   "id": "respective-tattoo",
   "metadata": {},
   "outputs": [
    {
     "data": {
      "text/plain": [
       "(6,)"
      ]
     },
     "execution_count": 72,
     "metadata": {},
     "output_type": "execute_result"
    }
   ],
   "source": [
    "import numpy as np\n",
    "def prod(*args):\n",
    "    return np.product(args)\n",
    "prod(2,3,1,4,5,779) \n",
    "x = np.array([2,1,3,3,4,5])\n",
    "x.shape\n"
   ]
  },
  {
   "cell_type": "code",
   "execution_count": 32,
   "id": "lined-liability",
   "metadata": {},
   "outputs": [
    {
     "name": "stdout",
     "output_type": "stream",
     "text": [
      "('322', 'akjajhah', 'baaj', 'kjsjsjs', ['jajajajaj'])\n"
     ]
    }
   ],
   "source": [
    "#args with other datatypes\n",
    "def func(*args):\n",
    "    print(args)   #print all arguments without using a for loop to access each one\n",
    "func('322','akjajhah','baaj','kjsjsjs',['jajajajaj'])  "
   ]
  },
  {
   "cell_type": "markdown",
   "id": "liable-rwanda",
   "metadata": {},
   "source": [
    "## **kwargs in a function"
   ]
  },
  {
   "cell_type": "markdown",
   "id": "concerned-charity",
   "metadata": {},
   "source": [
    "Takes a modified dictionary as arguments then does the same thing as args. Only takes strings as arguments"
   ]
  },
  {
   "cell_type": "code",
   "execution_count": 43,
   "id": "mature-israeli",
   "metadata": {},
   "outputs": [
    {
     "name": "stdout",
     "output_type": "stream",
     "text": [
      "{'a': '17', 'b': '22', 'c': '78'}\n"
     ]
    }
   ],
   "source": [
    "def f(**kwargs):\n",
    "    print(kwargs)\n",
    "f(a = '17', b = '22', c = '78') #key-value pairs are passed with slightly different formatting (= instead of :)\n"
   ]
  },
  {
   "cell_type": "code",
   "execution_count": 46,
   "id": "surprising-washington",
   "metadata": {},
   "outputs": [
    {
     "name": "stdout",
     "output_type": "stream",
     "text": [
      "{'1': 'rich', '2': 'middle', '3': 'poor'}\n"
     ]
    }
   ],
   "source": [
    "res = {a:'rich', b:'middle', c:'poor'}\n",
    "f(**res) #prints each element in the res dictionary, \n",
    "#to unpack the dictionary we must specify the res function as a kwargs with 2 starts"
   ]
  },
  {
   "cell_type": "code",
   "execution_count": null,
   "id": "interracial-bibliography",
   "metadata": {},
   "outputs": [],
   "source": []
  }
 ],
 "metadata": {
  "kernelspec": {
   "display_name": "Python 3",
   "language": "python",
   "name": "python3"
  },
  "language_info": {
   "codemirror_mode": {
    "name": "ipython",
    "version": 3
   },
   "file_extension": ".py",
   "mimetype": "text/x-python",
   "name": "python",
   "nbconvert_exporter": "python",
   "pygments_lexer": "ipython3",
   "version": "3.8.5"
  }
 },
 "nbformat": 4,
 "nbformat_minor": 5
}
